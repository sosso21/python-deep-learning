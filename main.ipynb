{
 "cells": [
  {
   "attachments": {},
   "cell_type": "markdown",
   "metadata": {},
   "source": [
    "# DEEP learning "
   ]
  },
  {
   "cell_type": "code",
   "execution_count": 294,
   "metadata": {},
   "outputs": [],
   "source": [
    "from sklearn import datasets\n",
    "import  numpy  as np\n",
    "\n",
    "import tensorflow as tf\n",
    "\n",
    "from sklearn.preprocessing import StandardScaler\n",
    "from sklearn.model_selection import  train_test_split"
   ]
  },
  {
   "cell_type": "code",
   "execution_count": 295,
   "metadata": {},
   "outputs": [],
   "source": [
    "df= datasets.load_breast_cancer()\n"
   ]
  },
  {
   "cell_type": "code",
   "execution_count": 296,
   "metadata": {},
   "outputs": [
    {
     "data": {
      "text/plain": [
       "array([[1.799e+01, 1.038e+01, 1.228e+02, ..., 2.654e-01, 4.601e-01,\n",
       "        1.189e-01],\n",
       "       [2.057e+01, 1.777e+01, 1.329e+02, ..., 1.860e-01, 2.750e-01,\n",
       "        8.902e-02],\n",
       "       [1.969e+01, 2.125e+01, 1.300e+02, ..., 2.430e-01, 3.613e-01,\n",
       "        8.758e-02],\n",
       "       ...,\n",
       "       [1.660e+01, 2.808e+01, 1.083e+02, ..., 1.418e-01, 2.218e-01,\n",
       "        7.820e-02],\n",
       "       [2.060e+01, 2.933e+01, 1.401e+02, ..., 2.650e-01, 4.087e-01,\n",
       "        1.240e-01],\n",
       "       [7.760e+00, 2.454e+01, 4.792e+01, ..., 0.000e+00, 2.871e-01,\n",
       "        7.039e-02]])"
      ]
     },
     "execution_count": 296,
     "metadata": {},
     "output_type": "execute_result"
    }
   ],
   "source": [
    "df.data"
   ]
  },
  {
   "cell_type": "code",
   "execution_count": 297,
   "metadata": {},
   "outputs": [],
   "source": [
    "x = df.data\n",
    "y = df.target"
   ]
  },
  {
   "attachments": {},
   "cell_type": "markdown",
   "metadata": {},
   "source": [
    "# Standardization "
   ]
  },
  {
   "cell_type": "code",
   "execution_count": 298,
   "metadata": {},
   "outputs": [],
   "source": [
    "# Standardization \n",
    "scalar= StandardScaler()\n",
    "x_scalar = scalar.fit_transform(x)"
   ]
  },
  {
   "cell_type": "code",
   "execution_count": 299,
   "metadata": {},
   "outputs": [
    {
     "data": {
      "text/plain": [
       "array([[ 1.09706398, -2.07333501,  1.26993369, ...,  2.29607613,\n",
       "         2.75062224,  1.93701461],\n",
       "       [ 1.82982061, -0.35363241,  1.68595471, ...,  1.0870843 ,\n",
       "        -0.24388967,  0.28118999],\n",
       "       [ 1.57988811,  0.45618695,  1.56650313, ...,  1.95500035,\n",
       "         1.152255  ,  0.20139121],\n",
       "       ...,\n",
       "       [ 0.70228425,  2.0455738 ,  0.67267578, ...,  0.41406869,\n",
       "        -1.10454895, -0.31840916],\n",
       "       [ 1.83834103,  2.33645719,  1.98252415, ...,  2.28998549,\n",
       "         1.91908301,  2.21963528],\n",
       "       [-1.80840125,  1.22179204, -1.81438851, ..., -1.74506282,\n",
       "        -0.04813821, -0.75120669]])"
      ]
     },
     "execution_count": 299,
     "metadata": {},
     "output_type": "execute_result"
    }
   ],
   "source": [
    "x_scalar"
   ]
  },
  {
   "cell_type": "code",
   "execution_count": 300,
   "metadata": {},
   "outputs": [],
   "source": [
    "x_train, x_test ,y_train,  y_test = train_test_split(x_scalar , y  , test_size=0.2 , random_state=42  )"
   ]
  },
  {
   "cell_type": "code",
   "execution_count": 301,
   "metadata": {},
   "outputs": [
    {
     "name": "stdout",
     "output_type": "stream",
     "text": [
      "x_train.shape:  (455, 30)\n",
      "x_test.shape:  (114, 30)\n"
     ]
    }
   ],
   "source": [
    "print(\"x_train.shape: \", x_train.shape)\n",
    "print(\"x_test.shape: \", x_test.shape)"
   ]
  },
  {
   "attachments": {},
   "cell_type": "markdown",
   "metadata": {},
   "source": [
    "# * Construction d'un réseau de neurone "
   ]
  },
  {
   "attachments": {},
   "cell_type": "markdown",
   "metadata": {},
   "source": [
    "* Le modèle est constitué de deux couches de neurones, qui sont créées et ajoutées à la séquence à l'aide de la méthode add().\n",
    "\n",
    "* La première couche est une couche de neurones Dense (complètement connectée) qui a 15 neurones. La fonction d'activation relu est utilisée pour chaque neurone, ce qui signifie que la sortie de chaque neurone sera calculée comme max(0, input). Le paramètre kernel_initializer est utilisé pour initialiser les poids du modèle à des valeurs aléatoires tirées selon une distribution uniforme. Le paramètre input_dim est utilisé pour spécifier la taille de l'entrée du modèle, qui est de 30 éléments dans ce cas.\n",
    "\n",
    "* La deuxième couche est également une couche Dense, mais elle a un seul neurone. La fonction d'activation utilisée est sigmoid, qui est couramment utilisée pour les tâches de classification binaire, car elle renvoie des valeurs comprises entre 0 et 1, qui peuvent être interprétées comme des probabilités. Les poids sont à nouveau initialisés à des valeurs aléatoires tirées selon une distribution uniforme.\n",
    "\n",
    "* En fin de compte, ce modèle est utilisé pour effectuer une tâche de classification binaire où l'entrée est un vecteur de 30 éléments et la sortie est une probabilité comprise entre 0 et 1.\n"
   ]
  },
  {
   "cell_type": "code",
   "execution_count": 302,
   "metadata": {},
   "outputs": [],
   "source": [
    "# * Construction d'un réseau de neurone\n",
    "model = tf.keras.models.Sequential()\n",
    "model.add(tf.keras.layers.Dense(15, activation=\"relu\",\n",
    "          kernel_initializer=\"uniform\", input_dim=30))\n",
    "\n",
    "\n",
    "model.add(tf.keras.layers.Dense(1, activation=\"sigmoid\",\n",
    "          kernel_initializer=\"uniform\"))\n",
    "\n"
   ]
  },
  {
   "attachments": {},
   "cell_type": "markdown",
   "metadata": {},
   "source": [
    "\n",
    "* optimizer : il s'agit d'un algorithme d'optimisation qui est utilisé pour ajuster les poids du modèle pendant l'entraînement. Dans ce cas, l'optimiseur utilisé est \"Adam\", qui est un optimiseur populaire pour l'apprentissage en profondeur car il est efficace et facile à utiliser.\n",
    "* loss : il s'agit de la fonction de perte (ou fonction objectif) qui est utilisée pour mesurer l'écart entre les prédictions du modèle et les véritables étiquettes (labels) de l'ensemble de données. Dans ce cas, la fonction de perte utilisée est \"binary_crossentropy\", qui est couramment utilisée pour les tâches de classification binaire.\n",
    "* metrics : il s'agit des métriques qui sont utilisées pour évaluer les performances du modèle pendant l'entraînement. Dans ce cas, la métrique utilisée est \"binary_accuracy\", qui mesure la précision du modèle pour les prédictions binaires. Cela signifie que la métrique renverra le pourcentage de prédictions correctes pour la classification binaire"
   ]
  },
  {
   "cell_type": "code",
   "execution_count": 303,
   "metadata": {},
   "outputs": [],
   "source": [
    "model.compile(optimizer='adam', loss='binary_crossentropy', metrics=['binary_accuracy'])\n"
   ]
  },
  {
   "cell_type": "code",
   "execution_count": 304,
   "metadata": {},
   "outputs": [
    {
     "name": "stdout",
     "output_type": "stream",
     "text": [
      "Model: \"sequential_16\"\n",
      "_________________________________________________________________\n",
      " Layer (type)                Output Shape              Param #   \n",
      "=================================================================\n",
      " dense_29 (Dense)            (None, 15)                465       \n",
      "                                                                 \n",
      " dense_30 (Dense)            (None, 1)                 16        \n",
      "                                                                 \n",
      "=================================================================\n",
      "Total params: 481\n",
      "Trainable params: 481\n",
      "Non-trainable params: 0\n",
      "_________________________________________________________________\n"
     ]
    }
   ],
   "source": [
    "# * Description \n",
    "model.summary()"
   ]
  },
  {
   "attachments": {},
   "cell_type": "markdown",
   "metadata": {},
   "source": [
    "# Fit\n"
   ]
  },
  {
   "attachments": {},
   "cell_type": "markdown",
   "metadata": {},
   "source": [
    "\n",
    "* La méthode fit() est utilisée pour entraîner le modèle de réseau de neurones sur un ensemble de données d'entraînement. Les paramètres x_train et y_train représentent respectivement les entrées (features) et les étiquettes (labels) de l'ensemble de données d'entraînement.\n",
    "\n",
    "* Le paramètre epochs spécifie le nombre d'itérations (epochs) sur lesquelles l'ensemble de données d'entraînement sera itéré pendant l'entraînement. Dans ce cas, il est défini sur 100, ce qui signifie que l'ensemble de données sera itéré 100 fois pendant l'entraînement.\n",
    "\n",
    "* Le paramètre batch_size spécifie la taille de chaque lot (batch) d'entrées qui est utilisée pour mettre à jour les poids du modèle pendant l'entraînement. Dans ce cas, il est défini sur 10, ce qui signifie que le modèle est mis à jour après chaque lot de 10 entrées.\n",
    "\n",
    "* En résumé, la commande model.fit(x_train, y_train, epochs=100, batch_size=10) entraîne le modèle de réseau de neurones sur l'ensemble de données d'entraînement, en itérant sur l'ensemble de données pendant 100 epochs et en utilisant des lots de 10 entrées pour mettre à jour les poids du modèle."
   ]
  },
  {
   "cell_type": "code",
   "execution_count": 305,
   "metadata": {},
   "outputs": [
    {
     "name": "stdout",
     "output_type": "stream",
     "text": [
      "Epoch 1/100\n",
      "46/46 [==============================] - 0s 610us/step - loss: 0.6372 - binary_accuracy: 0.9297\n",
      "Epoch 2/100\n",
      "46/46 [==============================] - 0s 592us/step - loss: 0.4338 - binary_accuracy: 0.9297\n",
      "Epoch 3/100\n",
      "46/46 [==============================] - 0s 632us/step - loss: 0.2614 - binary_accuracy: 0.9407\n",
      "Epoch 4/100\n",
      "46/46 [==============================] - 0s 648us/step - loss: 0.1843 - binary_accuracy: 0.9582\n",
      "Epoch 5/100\n",
      "46/46 [==============================] - 0s 656us/step - loss: 0.1449 - binary_accuracy: 0.9670\n",
      "Epoch 6/100\n",
      "46/46 [==============================] - 0s 667us/step - loss: 0.1214 - binary_accuracy: 0.9758\n",
      "Epoch 7/100\n",
      "46/46 [==============================] - 0s 672us/step - loss: 0.1059 - binary_accuracy: 0.9780\n",
      "Epoch 8/100\n",
      "46/46 [==============================] - 0s 614us/step - loss: 0.0953 - binary_accuracy: 0.9780\n",
      "Epoch 9/100\n",
      "46/46 [==============================] - 0s 627us/step - loss: 0.0877 - binary_accuracy: 0.9802\n",
      "Epoch 10/100\n",
      "46/46 [==============================] - 0s 646us/step - loss: 0.0813 - binary_accuracy: 0.9802\n",
      "Epoch 11/100\n",
      "46/46 [==============================] - 0s 652us/step - loss: 0.0767 - binary_accuracy: 0.9846\n",
      "Epoch 12/100\n",
      "46/46 [==============================] - 0s 658us/step - loss: 0.0727 - binary_accuracy: 0.9846\n",
      "Epoch 13/100\n",
      "46/46 [==============================] - 0s 673us/step - loss: 0.0694 - binary_accuracy: 0.9824\n",
      "Epoch 14/100\n",
      "46/46 [==============================] - 0s 649us/step - loss: 0.0670 - binary_accuracy: 0.9824\n",
      "Epoch 15/100\n",
      "46/46 [==============================] - 0s 616us/step - loss: 0.0649 - binary_accuracy: 0.9824\n",
      "Epoch 16/100\n",
      "46/46 [==============================] - 0s 603us/step - loss: 0.0632 - binary_accuracy: 0.9824\n",
      "Epoch 17/100\n",
      "46/46 [==============================] - 0s 622us/step - loss: 0.0617 - binary_accuracy: 0.9824\n",
      "Epoch 18/100\n",
      "46/46 [==============================] - 0s 633us/step - loss: 0.0605 - binary_accuracy: 0.9824\n",
      "Epoch 19/100\n",
      "46/46 [==============================] - 0s 626us/step - loss: 0.0588 - binary_accuracy: 0.9824\n",
      "Epoch 20/100\n",
      "46/46 [==============================] - 0s 625us/step - loss: 0.0576 - binary_accuracy: 0.9824\n",
      "Epoch 21/100\n",
      "46/46 [==============================] - 0s 658us/step - loss: 0.0568 - binary_accuracy: 0.9824\n",
      "Epoch 22/100\n",
      "46/46 [==============================] - 0s 667us/step - loss: 0.0553 - binary_accuracy: 0.9824\n",
      "Epoch 23/100\n",
      "46/46 [==============================] - 0s 648us/step - loss: 0.0543 - binary_accuracy: 0.9824\n",
      "Epoch 24/100\n",
      "46/46 [==============================] - 0s 635us/step - loss: 0.0531 - binary_accuracy: 0.9824\n",
      "Epoch 25/100\n",
      "46/46 [==============================] - 0s 678us/step - loss: 0.0523 - binary_accuracy: 0.9824\n",
      "Epoch 26/100\n",
      "46/46 [==============================] - 0s 646us/step - loss: 0.0517 - binary_accuracy: 0.9824\n",
      "Epoch 27/100\n",
      "46/46 [==============================] - 0s 626us/step - loss: 0.0505 - binary_accuracy: 0.9824\n",
      "Epoch 28/100\n",
      "46/46 [==============================] - 0s 622us/step - loss: 0.0496 - binary_accuracy: 0.9824\n",
      "Epoch 29/100\n",
      "46/46 [==============================] - 0s 601us/step - loss: 0.0489 - binary_accuracy: 0.9824\n",
      "Epoch 30/100\n",
      "46/46 [==============================] - 0s 627us/step - loss: 0.0483 - binary_accuracy: 0.9824\n",
      "Epoch 31/100\n",
      "46/46 [==============================] - 0s 644us/step - loss: 0.0476 - binary_accuracy: 0.9824\n",
      "Epoch 32/100\n",
      "46/46 [==============================] - 0s 943us/step - loss: 0.0469 - binary_accuracy: 0.9824\n",
      "Epoch 33/100\n",
      "46/46 [==============================] - 0s 701us/step - loss: 0.0462 - binary_accuracy: 0.9824\n",
      "Epoch 34/100\n",
      "46/46 [==============================] - 0s 640us/step - loss: 0.0456 - binary_accuracy: 0.9824\n",
      "Epoch 35/100\n",
      "46/46 [==============================] - 0s 610us/step - loss: 0.0448 - binary_accuracy: 0.9846\n",
      "Epoch 36/100\n",
      "46/46 [==============================] - 0s 652us/step - loss: 0.0443 - binary_accuracy: 0.9846\n",
      "Epoch 37/100\n",
      "46/46 [==============================] - 0s 615us/step - loss: 0.0436 - binary_accuracy: 0.9846\n",
      "Epoch 38/100\n",
      "46/46 [==============================] - 0s 657us/step - loss: 0.0432 - binary_accuracy: 0.9846\n",
      "Epoch 39/100\n",
      "46/46 [==============================] - 0s 652us/step - loss: 0.0435 - binary_accuracy: 0.9846\n",
      "Epoch 40/100\n",
      "46/46 [==============================] - 0s 624us/step - loss: 0.0418 - binary_accuracy: 0.9868\n",
      "Epoch 41/100\n",
      "46/46 [==============================] - 0s 674us/step - loss: 0.0413 - binary_accuracy: 0.9846\n",
      "Epoch 42/100\n",
      "46/46 [==============================] - 0s 671us/step - loss: 0.0412 - binary_accuracy: 0.9846\n",
      "Epoch 43/100\n",
      "46/46 [==============================] - 0s 615us/step - loss: 0.0398 - binary_accuracy: 0.9868\n",
      "Epoch 44/100\n",
      "46/46 [==============================] - 0s 673us/step - loss: 0.0391 - binary_accuracy: 0.9912\n",
      "Epoch 45/100\n",
      "46/46 [==============================] - 0s 672us/step - loss: 0.0392 - binary_accuracy: 0.9868\n",
      "Epoch 46/100\n",
      "46/46 [==============================] - 0s 593us/step - loss: 0.0382 - binary_accuracy: 0.9868\n",
      "Epoch 47/100\n",
      "46/46 [==============================] - 0s 669us/step - loss: 0.0377 - binary_accuracy: 0.9912\n",
      "Epoch 48/100\n",
      "46/46 [==============================] - 0s 707us/step - loss: 0.0371 - binary_accuracy: 0.9890\n",
      "Epoch 49/100\n",
      "46/46 [==============================] - 0s 655us/step - loss: 0.0371 - binary_accuracy: 0.9912\n",
      "Epoch 50/100\n",
      "46/46 [==============================] - 0s 792us/step - loss: 0.0364 - binary_accuracy: 0.9912\n",
      "Epoch 51/100\n",
      "46/46 [==============================] - 0s 707us/step - loss: 0.0359 - binary_accuracy: 0.9912\n",
      "Epoch 52/100\n",
      "46/46 [==============================] - 0s 688us/step - loss: 0.0352 - binary_accuracy: 0.9912\n",
      "Epoch 53/100\n",
      "46/46 [==============================] - 0s 696us/step - loss: 0.0350 - binary_accuracy: 0.9912\n",
      "Epoch 54/100\n",
      "46/46 [==============================] - 0s 635us/step - loss: 0.0344 - binary_accuracy: 0.9912\n",
      "Epoch 55/100\n",
      "46/46 [==============================] - 0s 661us/step - loss: 0.0344 - binary_accuracy: 0.9912\n",
      "Epoch 56/100\n",
      "46/46 [==============================] - 0s 626us/step - loss: 0.0339 - binary_accuracy: 0.9912\n",
      "Epoch 57/100\n",
      "46/46 [==============================] - 0s 604us/step - loss: 0.0331 - binary_accuracy: 0.9912\n",
      "Epoch 58/100\n",
      "46/46 [==============================] - 0s 616us/step - loss: 0.0323 - binary_accuracy: 0.9912\n",
      "Epoch 59/100\n",
      "46/46 [==============================] - 0s 632us/step - loss: 0.0320 - binary_accuracy: 0.9912\n",
      "Epoch 60/100\n",
      "46/46 [==============================] - 0s 613us/step - loss: 0.0320 - binary_accuracy: 0.9912\n",
      "Epoch 61/100\n",
      "46/46 [==============================] - 0s 615us/step - loss: 0.0315 - binary_accuracy: 0.9912\n",
      "Epoch 62/100\n",
      "46/46 [==============================] - 0s 626us/step - loss: 0.0310 - binary_accuracy: 0.9912\n",
      "Epoch 63/100\n",
      "46/46 [==============================] - 0s 627us/step - loss: 0.0305 - binary_accuracy: 0.9912\n",
      "Epoch 64/100\n",
      "46/46 [==============================] - 0s 647us/step - loss: 0.0305 - binary_accuracy: 0.9912\n",
      "Epoch 65/100\n",
      "46/46 [==============================] - 0s 629us/step - loss: 0.0298 - binary_accuracy: 0.9912\n",
      "Epoch 66/100\n",
      "46/46 [==============================] - 0s 633us/step - loss: 0.0298 - binary_accuracy: 0.9912\n",
      "Epoch 67/100\n",
      "46/46 [==============================] - 0s 967us/step - loss: 0.0289 - binary_accuracy: 0.9912\n",
      "Epoch 68/100\n",
      "46/46 [==============================] - 0s 676us/step - loss: 0.0285 - binary_accuracy: 0.9912\n",
      "Epoch 69/100\n",
      "46/46 [==============================] - 0s 610us/step - loss: 0.0279 - binary_accuracy: 0.9912\n",
      "Epoch 70/100\n",
      "46/46 [==============================] - 0s 641us/step - loss: 0.0276 - binary_accuracy: 0.9912\n",
      "Epoch 71/100\n",
      "46/46 [==============================] - 0s 627us/step - loss: 0.0274 - binary_accuracy: 0.9912\n",
      "Epoch 72/100\n",
      "46/46 [==============================] - 0s 629us/step - loss: 0.0266 - binary_accuracy: 0.9912\n",
      "Epoch 73/100\n",
      "46/46 [==============================] - 0s 631us/step - loss: 0.0264 - binary_accuracy: 0.9912\n",
      "Epoch 74/100\n",
      "46/46 [==============================] - 0s 662us/step - loss: 0.0266 - binary_accuracy: 0.9912\n",
      "Epoch 75/100\n",
      "46/46 [==============================] - 0s 611us/step - loss: 0.0260 - binary_accuracy: 0.9912\n",
      "Epoch 76/100\n",
      "46/46 [==============================] - 0s 611us/step - loss: 0.0254 - binary_accuracy: 0.9912\n",
      "Epoch 77/100\n",
      "46/46 [==============================] - 0s 639us/step - loss: 0.0249 - binary_accuracy: 0.9912\n",
      "Epoch 78/100\n",
      "46/46 [==============================] - 0s 605us/step - loss: 0.0251 - binary_accuracy: 0.9912\n",
      "Epoch 79/100\n",
      "46/46 [==============================] - 0s 630us/step - loss: 0.0247 - binary_accuracy: 0.9912\n",
      "Epoch 80/100\n",
      "46/46 [==============================] - 0s 630us/step - loss: 0.0239 - binary_accuracy: 0.9912\n",
      "Epoch 81/100\n",
      "46/46 [==============================] - 0s 627us/step - loss: 0.0241 - binary_accuracy: 0.9912\n",
      "Epoch 82/100\n",
      "46/46 [==============================] - 0s 737us/step - loss: 0.0233 - binary_accuracy: 0.9912\n",
      "Epoch 83/100\n",
      "46/46 [==============================] - 0s 764us/step - loss: 0.0229 - binary_accuracy: 0.9912\n",
      "Epoch 84/100\n",
      "46/46 [==============================] - 0s 652us/step - loss: 0.0229 - binary_accuracy: 0.9912\n",
      "Epoch 85/100\n",
      "46/46 [==============================] - 0s 649us/step - loss: 0.0226 - binary_accuracy: 0.9912\n",
      "Epoch 86/100\n",
      "46/46 [==============================] - 0s 621us/step - loss: 0.0224 - binary_accuracy: 0.9912\n",
      "Epoch 87/100\n",
      "46/46 [==============================] - 0s 604us/step - loss: 0.0218 - binary_accuracy: 0.9912\n",
      "Epoch 88/100\n",
      "46/46 [==============================] - 0s 612us/step - loss: 0.0214 - binary_accuracy: 0.9912\n",
      "Epoch 89/100\n",
      "46/46 [==============================] - 0s 670us/step - loss: 0.0213 - binary_accuracy: 0.9912\n",
      "Epoch 90/100\n",
      "46/46 [==============================] - 0s 652us/step - loss: 0.0208 - binary_accuracy: 0.9912\n",
      "Epoch 91/100\n",
      "46/46 [==============================] - 0s 605us/step - loss: 0.0207 - binary_accuracy: 0.9912\n",
      "Epoch 92/100\n",
      "46/46 [==============================] - 0s 650us/step - loss: 0.0203 - binary_accuracy: 0.9912\n",
      "Epoch 93/100\n",
      "46/46 [==============================] - 0s 618us/step - loss: 0.0200 - binary_accuracy: 0.9912\n",
      "Epoch 94/100\n",
      "46/46 [==============================] - 0s 605us/step - loss: 0.0195 - binary_accuracy: 0.9912\n",
      "Epoch 95/100\n",
      "46/46 [==============================] - 0s 605us/step - loss: 0.0195 - binary_accuracy: 0.9912\n",
      "Epoch 96/100\n",
      "46/46 [==============================] - 0s 625us/step - loss: 0.0193 - binary_accuracy: 0.9912\n",
      "Epoch 97/100\n",
      "46/46 [==============================] - 0s 630us/step - loss: 0.0187 - binary_accuracy: 0.9912\n",
      "Epoch 98/100\n",
      "46/46 [==============================] - 0s 604us/step - loss: 0.0187 - binary_accuracy: 0.9912\n",
      "Epoch 99/100\n",
      "46/46 [==============================] - 0s 653us/step - loss: 0.0183 - binary_accuracy: 0.9912\n",
      "Epoch 100/100\n",
      "46/46 [==============================] - 0s 963us/step - loss: 0.0185 - binary_accuracy: 0.9912\n"
     ]
    },
    {
     "data": {
      "text/plain": [
       "<keras.callbacks.History at 0x184882e4760>"
      ]
     },
     "execution_count": 305,
     "metadata": {},
     "output_type": "execute_result"
    }
   ],
   "source": [
    "\n",
    "\n",
    "\n",
    "model.fit(x_train, y_train , epochs=100 , batch_size=10)"
   ]
  },
  {
   "cell_type": "code",
   "execution_count": 306,
   "metadata": {},
   "outputs": [
    {
     "name": "stdout",
     "output_type": "stream",
     "text": [
      "4/4 [==============================] - 0s 1ms/step - loss: 0.0551 - binary_accuracy: 0.9825\n",
      "test_loss : \n",
      "  5.509785562753677\n",
      "test_accuracy : \n",
      "  98.24561476707458\n"
     ]
    }
   ],
   "source": [
    "test_loss, test_accuracy = model.evaluate(x_test , y_test)\n",
    "print(\"test_loss : \\n \", test_loss*100 )\n",
    "print(\"test_accuracy : \\n \", test_accuracy*100 )"
   ]
  }
 ],
 "metadata": {
  "kernelspec": {
   "display_name": "Python 3 (ipykernel)",
   "language": "python",
   "name": "python3"
  },
  "language_info": {
   "codemirror_mode": {
    "name": "ipython",
    "version": 3
   },
   "file_extension": ".py",
   "mimetype": "text/x-python",
   "name": "python",
   "nbconvert_exporter": "python",
   "pygments_lexer": "ipython3",
   "version": "3.9.13"
  },
  "orig_nbformat": 4
 },
 "nbformat": 4,
 "nbformat_minor": 2
}
