{
  "cells": [
    {
      "attachments": {},
      "cell_type": "markdown",
      "metadata": {},
      "source": [
        "#  Pytorch"
      ]
    },
    {
      "attachments": {},
      "cell_type": "markdown",
      "metadata": {},
      "source": [
        "## Introduction to Pytorch\n"
      ]
    },
    {
      "cell_type": "code",
      "execution_count": 132,
      "metadata": {},
      "outputs": [],
      "source": [
        "import torch\n",
        "import numpy as np\n",
        "\n"
      ]
    },
    {
      "attachments": {},
      "cell_type": "markdown",
      "metadata": {},
      "source": [
        "###  tensor basics \n"
      ]
    },
    {
      "attachments": {},
      "cell_type": "markdown",
      "metadata": {},
      "source": [
        "* creation de tensors"
      ]
    },
    {
      "cell_type": "code",
      "execution_count": 133,
      "metadata": {},
      "outputs": [
        {
          "name": "stdout",
          "output_type": "stream",
          "text": [
            "tensor([1., 1., 1., 1., 1.])\n",
            "tensor([1., 1., 1., 1., 1.], requires_grad=True)\n"
          ]
        }
      ],
      "source": [
        "print(torch.ones(5))\n",
        "# traquer le gradiant\n",
        "print(torch.ones(5, requires_grad=True))"
      ]
    },
    {
      "attachments": {},
      "cell_type": "markdown",
      "metadata": {},
      "source": [
        "* tensor  1 dimension"
      ]
    },
    {
      "cell_type": "code",
      "execution_count": 134,
      "metadata": {},
      "outputs": [
        {
          "name": "stdout",
          "output_type": "stream",
          "text": [
            "x: tensor([0.])\n",
            "x.size(): torch.Size([1])\n",
            "y: tensor([0.0000, 1.8750])\n",
            "y.size(): torch.Size([2])\n",
            "z: tensor([ 1.4013e-45,  0.0000e+00, -2.3569e+27])\n",
            "z.size(): torch.Size([3])\n"
          ]
        }
      ],
      "source": [
        "\n",
        "# tensor 1 dimension 1xx1\n",
        "x = torch.empty(1)\n",
        "print(\"x:\",x)\n",
        "print(\"x.size():\", x.size())\n",
        "\n",
        "# tensor 1 dimensions 1x2\n",
        "y = torch.empty(2)\n",
        "print(\"y:\",y)\n",
        "print(\"y.size():\", y.size())\n",
        "\n",
        "# tensor 1 dimensions 1x3\n",
        "z = torch.empty(3)\n",
        "print(\"z:\",z)\n",
        "print(\"z.size():\", z.size())\n",
        "\n",
        "\n"
      ]
    },
    {
      "attachments": {},
      "cell_type": "markdown",
      "metadata": {},
      "source": [
        "* tensor 32 dimensions"
      ]
    },
    {
      "cell_type": "code",
      "execution_count": 135,
      "metadata": {},
      "outputs": [
        {
          "name": "stdout",
          "output_type": "stream",
          "text": [
            "x: tensor([[9.2196e-41, 1.8980e+01],\n",
            "        [0.0000e+00, 0.0000e+00]])\n",
            "x.size(): torch.Size([2, 2])\n",
            "y: tensor([[8.4490e-39, 1.0469e-38, 9.3674e-39, 9.9184e-39],\n",
            "        [8.7245e-39, 9.2755e-39, 8.9082e-39, 9.9184e-39],\n",
            "        [8.4490e-39, 9.6429e-39, 1.0653e-38, 1.0469e-38],\n",
            "        [4.2246e-39, 1.0378e-38, 9.6429e-39, 9.2755e-39]])\n",
            "y.size(): torch.Size([4, 4])\n",
            "z: tensor([[4.7429e+30, 1.2332e+01, 1.0897e+27, 5.8148e+25, 6.0991e+31, 4.2964e+24,\n",
            "         8.3692e-01, 1.1431e+27],\n",
            "        [7.1428e+31, 1.2915e+10, 5.8619e+13, 7.2436e+22, 7.3972e+31, 4.7429e+30,\n",
            "         3.0064e+00, 1.8037e+22],\n",
            "        [1.5232e+31, 3.0061e+00, 1.3281e+13, 4.4166e+21, 1.0317e-08, 1.2332e+01,\n",
            "         1.7658e+22, 1.0317e-08],\n",
            "        [1.2328e+01, 2.0821e+32, 1.7889e+22, 1.6930e+22, 2.7907e+29, 1.2332e+01,\n",
            "         1.0897e+27, 5.8148e+25],\n",
            "        [6.0991e+31, 4.2964e+24, 3.3320e+03, 1.0322e-08, 8.3301e-01, 1.7859e+31,\n",
            "         3.3320e+03, 2.4711e+20],\n",
            "        [3.5853e+00, 3.8189e+00, 4.4721e+21, 3.0039e+00, 3.5696e+00, 4.1489e-17,\n",
            "         2.8298e+20, 7.5630e+28],\n",
            "        [1.2332e+01, 1.0897e+27, 5.8148e+25, 6.0991e+31, 4.2964e+24, 7.1619e-07,\n",
            "         4.1490e-17, 7.3169e+28],\n",
            "        [7.5632e+28, 8.3301e-01, 1.7034e+25, 3.3480e+03, 2.4711e+20, 3.5853e+00,\n",
            "         3.8189e+00, 4.4721e+21]])\n",
            "z.size(): torch.Size([8, 8])\n"
          ]
        }
      ],
      "source": [
        "\n",
        "# tensor 2 dimension 2x2\n",
        "x = torch.empty(2, 2)\n",
        "print(\"x:\",x)\n",
        "print(\"x.size():\", x.size())\n",
        "\n",
        "# tensor 2 dimensions 4x4\n",
        "y = torch.empty(4,4)\n",
        "print(\"y:\",y)\n",
        "print(\"y.size():\", y.size())\n",
        "\n",
        "# tensor 2 dimensions 8x8\n",
        "z = torch.empty(8,8)\n",
        "print(\"z:\",z)\n",
        "print(\"z.size():\", z.size())\n",
        "\n",
        "\n"
      ]
    },
    {
      "attachments": {},
      "cell_type": "markdown",
      "metadata": {},
      "source": [
        "* Tensor 3 dimension "
      ]
    },
    {
      "cell_type": "code",
      "execution_count": 136,
      "metadata": {},
      "outputs": [
        {
          "name": "stdout",
          "output_type": "stream",
          "text": [
            "x: tensor([[[2.6250e-09, 5.2304e+22],\n",
            "         [1.7080e-07, 1.0624e+21]],\n",
            "\n",
            "        [[5.2945e-08, 1.3434e-05],\n",
            "         [3.4301e-06, 4.3722e-05]]])\n",
            "x.size(): torch.Size([2, 2, 2])\n",
            "y: tensor([[[2.7655e+29, 1.3225e+13, 1.5563e+28, 1.9446e+31, 1.5399e+10,\n",
            "          2.4493e+20],\n",
            "         [7.2701e+31, 2.7909e+29, 3.7874e+00, 1.7753e+28, 3.7881e+00,\n",
            "          6.7705e+22],\n",
            "         [3.0039e+00, 1.8465e+25, 2.2182e+20, 1.3211e+13, 1.8038e+28,\n",
            "          1.9446e+31],\n",
            "         [1.6535e+19, 1.1446e+24, 1.6488e+22, 2.8573e+32, 1.7289e+28,\n",
            "          1.7036e+19]],\n",
            "\n",
            "        [[7.0976e+22, 4.1489e-17, 4.8415e+30, 1.1837e+33, 4.8391e+30,\n",
            "          1.1446e+24],\n",
            "         [4.2675e+30, 7.0965e+22, 6.7899e+31, 7.5338e+28, 1.7211e+22,\n",
            "          3.7562e+00],\n",
            "         [2.7468e+20, 7.2728e+22, 3.8184e+00, 6.7368e+22, 1.1286e+27,\n",
            "          6.4533e-10],\n",
            "         [3.5464e+21, 3.0029e+00, 3.8184e+00, 1.2332e+01, 8.5700e+02,\n",
            "          2.7722e+20]],\n",
            "\n",
            "        [[1.5230e+07, 6.2416e+22, 3.3069e-09, 5.2845e+13, 7.0975e+22,\n",
            "          2.8177e+20],\n",
            "         [2.6609e+23, 2.7874e+00, 5.7947e+22, 6.7120e+22, 5.2832e+13,\n",
            "          1.8038e+28],\n",
            "         [1.9446e+31, 1.6535e+19, 3.7884e+00, 6.7276e+05, 3.0735e+32,\n",
            "          7.2728e+22],\n",
            "         [4.1653e+12, 6.8311e+22, 2.7940e+20, 4.5445e+30, 7.2116e+22,\n",
            "          4.7428e+30]],\n",
            "\n",
            "        [[6.7415e+22, 3.0069e+00, 7.1442e+31, 3.5854e+00, 3.0071e+00,\n",
            "          1.2410e+25],\n",
            "         [3.0735e+32, 7.2728e+22, 4.4656e+30, 1.7611e+19, 2.6563e+20,\n",
            "          1.7613e+19],\n",
            "         [1.1434e+27, 3.0881e+29, 8.3301e-01, 7.5516e+31, 1.8395e+25,\n",
            "          6.6043e+31],\n",
            "         [4.4631e+30, 2.6872e+14, 2.9758e+29, 5.2899e+13, 1.8888e+31,\n",
            "          1.4541e+25]]])\n",
            "y.size(): torch.Size([4, 4, 6])\n",
            "z: tensor([[[ 0.0000e+00,  0.0000e+00,  3.0145e-25],\n",
            "         [ 4.5915e-41,  7.9874e-44,  0.0000e+00],\n",
            "         [-1.7135e+27,  7.0485e-43, -1.6794e+28],\n",
            "         [ 7.0485e-43, -3.3932e+06,  7.0485e-43],\n",
            "         [-2.3662e+09,  7.0485e-43,  0.0000e+00],\n",
            "         [ 0.0000e+00, -1.3590e+27,  7.0485e-43],\n",
            "         [ 0.0000e+00,  0.0000e+00,  0.0000e+00],\n",
            "         [ 0.0000e+00,  1.4013e-45,  0.0000e+00]],\n",
            "\n",
            "        [[ 0.0000e+00,  0.0000e+00,  1.6816e-44],\n",
            "         [ 4.2039e-45,  0.0000e+00,         nan],\n",
            "         [        nan,         nan,         nan],\n",
            "         [        nan,         nan,         nan],\n",
            "         [        nan,         nan,         nan],\n",
            "         [        nan,         nan,         nan],\n",
            "         [        nan,         nan,         nan],\n",
            "         [        nan,         nan,         nan]],\n",
            "\n",
            "        [[        nan,         nan,         nan],\n",
            "         [        nan,         nan,         nan],\n",
            "         [        nan,         nan,         nan],\n",
            "         [        nan,         nan,         nan],\n",
            "         [        nan,         nan,         nan],\n",
            "         [        nan,         nan,         nan],\n",
            "         [        nan,         nan,         nan],\n",
            "         [        nan,         nan,         nan]],\n",
            "\n",
            "        [[        nan,         nan,         nan],\n",
            "         [        nan,         nan,         nan],\n",
            "         [        nan,         nan,         nan],\n",
            "         [        nan,         nan,         nan],\n",
            "         [ 3.5032e-44,  0.0000e+00,  4.7644e-44],\n",
            "         [ 0.0000e+00,         nan,         nan],\n",
            "         [ 3.0169e-25,  4.5915e-41, -1.7201e+28],\n",
            "         [ 7.0485e-43, -4.4644e+27,  7.0485e-43]],\n",
            "\n",
            "        [[ 0.0000e+00,  0.0000e+00, -1.5454e+28],\n",
            "         [ 7.0485e-43, -7.6982e+26,  7.0485e-43],\n",
            "         [-1.5454e+28,  7.0485e-43, -1.5579e+28],\n",
            "         [ 7.0485e-43,  3.0169e-25,  4.5915e-41],\n",
            "         [-1.4951e+28,  7.0485e-43, -3.3163e+06],\n",
            "         [ 7.0485e-43,  3.0045e-25,  4.5915e-41],\n",
            "         [ 3.0045e-25,  4.5915e-41, -8.2019e+07],\n",
            "         [ 7.0485e-43,  0.0000e+00,  0.0000e+00]],\n",
            "\n",
            "        [[ 0.0000e+00,  0.0000e+00,  0.0000e+00],\n",
            "         [ 0.0000e+00,  0.0000e+00,  0.0000e+00],\n",
            "         [ 0.0000e+00,  0.0000e+00,  0.0000e+00],\n",
            "         [ 0.0000e+00,  0.0000e+00,  0.0000e+00],\n",
            "         [ 0.0000e+00,  0.0000e+00,  0.0000e+00],\n",
            "         [ 0.0000e+00,  0.0000e+00,  0.0000e+00],\n",
            "         [ 0.0000e+00,  0.0000e+00,  0.0000e+00],\n",
            "         [ 0.0000e+00,  0.0000e+00,  0.0000e+00]],\n",
            "\n",
            "        [[ 0.0000e+00,  0.0000e+00,  3.0169e-25],\n",
            "         [ 4.5915e-41, -3.3163e+06,  7.0485e-43],\n",
            "         [-1.6786e+28,  7.0485e-43, -3.3164e+06],\n",
            "         [ 7.0485e-43, -3.3167e+06,  7.0485e-43],\n",
            "         [ 0.0000e+00,  0.0000e+00,  0.0000e+00],\n",
            "         [ 0.0000e+00,  0.0000e+00,  0.0000e+00],\n",
            "         [ 0.0000e+00,  0.0000e+00,  0.0000e+00],\n",
            "         [ 0.0000e+00,  0.0000e+00,  0.0000e+00]],\n",
            "\n",
            "        [[ 0.0000e+00,  0.0000e+00,  0.0000e+00],\n",
            "         [ 0.0000e+00,  0.0000e+00,  0.0000e+00],\n",
            "         [ 0.0000e+00,  0.0000e+00,  0.0000e+00],\n",
            "         [ 0.0000e+00,  0.0000e+00,  0.0000e+00],\n",
            "         [ 0.0000e+00,  0.0000e+00,  0.0000e+00],\n",
            "         [ 0.0000e+00, -1.4244e+28,  7.0485e-43],\n",
            "         [-3.3164e+06,  7.0485e-43,  3.0169e-25],\n",
            "         [ 4.5915e-41, -3.3164e+06,  7.0485e-43]]])\n",
            "z.size(): torch.Size([8, 8, 3])\n"
          ]
        }
      ],
      "source": [
        "\n",
        "# tensor 3 dimension 2x2x2\n",
        "x = torch.empty(2, 2 ,2)\n",
        "print(\"x:\",x)\n",
        "print(\"x.size():\", x.size())\n",
        "\n",
        "# tensor 3 dimensions 4x4x6\n",
        "y = torch.empty(4,4, 6)\n",
        "print(\"y:\",y)\n",
        "print(\"y.size():\", y.size())\n",
        "\n",
        "# tensor 3 dimensions 8x8x3\n",
        "z = torch.empty(8,8 ,3)\n",
        "print(\"z:\",z)\n",
        "print(\"z.size():\", z.size())\n",
        "\n",
        "\n"
      ]
    },
    {
      "attachments": {},
      "cell_type": "markdown",
      "metadata": {},
      "source": [
        "* typage"
      ]
    },
    {
      "cell_type": "code",
      "execution_count": 137,
      "metadata": {},
      "outputs": [
        {
          "data": {
            "text/plain": [
              "tensor([ 6.9315e-01, 1.9763e-323], dtype=torch.float64)"
            ]
          },
          "execution_count": 137,
          "metadata": {},
          "output_type": "execute_result"
        }
      ],
      "source": [
        "\n",
        "x = torch.empty(2, dtype=torch.float64)\n",
        "x"
      ]
    },
    {
      "attachments": {},
      "cell_type": "markdown",
      "metadata": {},
      "source": [
        "* create tensor"
      ]
    },
    {
      "cell_type": "code",
      "execution_count": 138,
      "metadata": {},
      "outputs": [
        {
          "data": {
            "text/plain": [
              "tensor([1, 2, 3])"
            ]
          },
          "execution_count": 138,
          "metadata": {},
          "output_type": "execute_result"
        }
      ],
      "source": [
        "a =  torch.tensor([1,2,3] )\n",
        "b =  torch.tensor([4,5,6] )\n",
        "\n",
        "a"
      ]
    },
    {
      "attachments": {},
      "cell_type": "markdown",
      "metadata": {},
      "source": [
        "* addition"
      ]
    },
    {
      "cell_type": "code",
      "execution_count": 139,
      "metadata": {},
      "outputs": [
        {
          "name": "stdout",
          "output_type": "stream",
          "text": [
            "z tensor([[1., 1.],\n",
            "        [1., 1.]])\n",
            "w tensor([[1., 1.],\n",
            "        [1., 1.]])\n"
          ]
        }
      ],
      "source": [
        "# x est un tableau de 1\n",
        "# y est un tableau de 0 \n",
        "x= torch.ones(2,2)\n",
        "y= torch.zeros(2,2)\n",
        "z= x + y \n",
        "w =torch.add(x,y)\n",
        "print(\"z\" , z)\n",
        "print(\"w\" , w)\n",
        "# w == z "
      ]
    },
    {
      "attachments": {},
      "cell_type": "markdown",
      "metadata": {},
      "source": [
        "** les methodes avec _ modifie directement la valeur de l'objet **"
      ]
    },
    {
      "cell_type": "code",
      "execution_count": 140,
      "metadata": {},
      "outputs": [
        {
          "name": "stdout",
          "output_type": "stream",
          "text": [
            "tensor([2, 3, 4])\n"
          ]
        }
      ],
      "source": [
        "\n",
        "# Créer un tenseur PyTorch\n",
        "x2 = torch.tensor([1, 2, 3])\n",
        "\n",
        "# Ajouter 1 à chaque élément du tenseur\n",
        "x2.add_(1)\n",
        "\n",
        "print(x2)"
      ]
    },
    {
      "attachments": {},
      "cell_type": "markdown",
      "metadata": {},
      "source": [
        "* subtraction"
      ]
    },
    {
      "cell_type": "code",
      "execution_count": 141,
      "metadata": {},
      "outputs": [
        {
          "name": "stdout",
          "output_type": "stream",
          "text": [
            "z tensor([[1., 1.],\n",
            "        [1., 1.]])\n",
            "w tensor([[1., 1.],\n",
            "        [1., 1.]])\n"
          ]
        }
      ],
      "source": [
        "w= torch.sub(x,y )\n",
        "z=x-y\n",
        "print(\"z\" , z)\n",
        "print(\"w\" , w)\n",
        "# z==w\n",
        "\n"
      ]
    },
    {
      "attachments": {},
      "cell_type": "markdown",
      "metadata": {},
      "source": [
        "* multiplication"
      ]
    },
    {
      "cell_type": "code",
      "execution_count": 142,
      "metadata": {},
      "outputs": [
        {
          "name": "stdout",
          "output_type": "stream",
          "text": [
            "c:  tensor([ 4, 10, 18])\n"
          ]
        }
      ],
      "source": [
        "c = a * b\n",
        "c = torch.mul(a, b)\n",
        "print(\"c: \" , c)"
      ]
    },
    {
      "attachments": {},
      "cell_type": "markdown",
      "metadata": {},
      "source": [
        "* division"
      ]
    },
    {
      "cell_type": "code",
      "execution_count": 143,
      "metadata": {},
      "outputs": [
        {
          "name": "stdout",
          "output_type": "stream",
          "text": [
            "c:  tensor([0.2500, 0.4000, 0.5000])\n"
          ]
        }
      ],
      "source": [
        "c = a / b\n",
        "c = torch.div(a, b)\n",
        "print(\"c: \" , c)"
      ]
    },
    {
      "attachments": {},
      "cell_type": "markdown",
      "metadata": {},
      "source": [
        "* puissance"
      ]
    },
    {
      "cell_type": "code",
      "execution_count": 144,
      "metadata": {},
      "outputs": [
        {
          "name": "stdout",
          "output_type": "stream",
          "text": [
            "c:  tensor([ 1,  8, 27])\n"
          ]
        }
      ],
      "source": [
        "c = torch.pow(a, 3)\n",
        "print(\"c: \" , c)"
      ]
    },
    {
      "attachments": {},
      "cell_type": "markdown",
      "metadata": {},
      "source": [
        "* exponential "
      ]
    },
    {
      "cell_type": "code",
      "execution_count": 145,
      "metadata": {},
      "outputs": [
        {
          "name": "stdout",
          "output_type": "stream",
          "text": [
            "c:  tensor([ 2.7183,  7.3891, 20.0855])\n"
          ]
        }
      ],
      "source": [
        "c = torch.exp(a) \n",
        "print(\"c: \" , c)"
      ]
    },
    {
      "attachments": {},
      "cell_type": "markdown",
      "metadata": {},
      "source": [
        "* logarithms"
      ]
    },
    {
      "cell_type": "code",
      "execution_count": 146,
      "metadata": {},
      "outputs": [
        {
          "name": "stdout",
          "output_type": "stream",
          "text": [
            "c:  tensor([0.0000, 0.6931, 1.0986])\n"
          ]
        }
      ],
      "source": [
        "c = torch.log(a)\n",
        "\n",
        "print(\"c: \" , c)"
      ]
    },
    {
      "attachments": {},
      "cell_type": "markdown",
      "metadata": {},
      "source": [
        "# numpy & tensor "
      ]
    },
    {
      "cell_type": "code",
      "execution_count": 147,
      "metadata": {},
      "outputs": [
        {
          "name": "stdout",
          "output_type": "stream",
          "text": [
            "tensor([[1, 2, 3],\n",
            "        [4, 5, 6]], dtype=torch.int32)\n"
          ]
        }
      ],
      "source": [
        "\n",
        "# Créer un tableau NumPy\n",
        "numpy_array = np.array([[1, 2, 3], [4, 5, 6]])\n",
        "\n",
        "# Convertir le tableau NumPy en tenseur PyTorch\n",
        "torch_tensor = torch.from_numpy(numpy_array)\n",
        "\n",
        "\n",
        "print(torch_tensor)\n"
      ]
    },
    {
      "cell_type": "code",
      "execution_count": 148,
      "metadata": {},
      "outputs": [
        {
          "name": "stdout",
          "output_type": "stream",
          "text": [
            "[[1 2 3]\n",
            " [4 5 6]]\n"
          ]
        }
      ],
      "source": [
        "\n",
        "# Créer un tenseur PyTorch\n",
        "torch_tensor = torch.tensor([[1, 2, 3], [4, 5, 6]])\n",
        "\n",
        "# Convertir le tenseur PyTorch en tableau NumPy\n",
        "numpy_array = torch_tensor.numpy()\n",
        "\n",
        "print(numpy_array)"
      ]
    },
    {
      "cell_type": "code",
      "execution_count": 149,
      "metadata": {},
      "outputs": [
        {
          "name": "stdout",
          "output_type": "stream",
          "text": [
            "torch_tensor: <class 'numpy.ndarray'>\n",
            "numpy_array: <class 'numpy.ndarray'>\n"
          ]
        }
      ],
      "source": [
        "## types \n",
        "print(\"torch_tensor:\" , type(numpy_array))\n",
        "print(\"numpy_array:\" , type(numpy_array))"
      ]
    },
    {
      "attachments": {},
      "cell_type": "markdown",
      "metadata": {},
      "source": [
        "## dictionaire et tensor"
      ]
    },
    {
      "cell_type": "code",
      "execution_count": 150,
      "metadata": {},
      "outputs": [
        {
          "name": "stdout",
          "output_type": "stream",
          "text": [
            "dict_items([('a', 1), ('b', 2), ('c', 3)])\n"
          ]
        }
      ],
      "source": [
        "\n",
        "# Créer un dictionnaire avec des paires clé-valeur\n",
        "my_dict = {'a': 1, 'b': 2, 'c': 3}\n",
        "\n",
        "# Appeler la méthode .items() sur le dictionnaire\n",
        "print(my_dict.items())"
      ]
    },
    {
      "cell_type": "code",
      "execution_count": 151,
      "metadata": {},
      "outputs": [
        {
          "name": "stdout",
          "output_type": "stream",
          "text": [
            "5\n"
          ]
        }
      ],
      "source": [
        "\n",
        "# Créer un tenseur PyTorch à 2 dimensions\n",
        "my_tensor = torch.tensor([[1, 2, 3], [4, 5, 6]])\n",
        "\n",
        "# Extraire un élément du tenseur\n",
        "my_element = my_tensor[1, 1]\n",
        "\n",
        "# Appeler la méthode .items() sur l'élément (ce qui provoque une erreur)\n",
        "print(my_element.item() )"
      ]
    },
    {
      "attachments": {},
      "cell_type": "markdown",
      "metadata": {},
      "source": [
        "## reshaping"
      ]
    },
    {
      "cell_type": "code",
      "execution_count": 152,
      "metadata": {},
      "outputs": [
        {
          "name": "stdout",
          "output_type": "stream",
          "text": [
            "tensor([[1, 2],\n",
            "        [3, 4],\n",
            "        [5, 6]])\n"
          ]
        }
      ],
      "source": [
        "\n",
        "# Créer un tenseur de dimension (2, 3)\n",
        "x = torch.tensor([[1, 2, 3], [4, 5, 6]])\n",
        "\n",
        "# Changer la dimension en (3, 2)\n",
        "x_reshaped = x.reshape(3, 2)\n",
        "\n",
        "print(x_reshaped)\n"
      ]
    },
    {
      "attachments": {},
      "cell_type": "markdown",
      "metadata": {},
      "source": [
        "La méthode .view() est utilisée pour changer la forme (ou dimension) d'un tenseur PyTorch sans modifier les données sous-jacentes. Cela peut être utile lorsque vous travaillez avec des modèles de réseau de neurones qui nécessitent des tenseurs d'entrée de dimensions spécifiques."
      ]
    },
    {
      "cell_type": "code",
      "execution_count": 153,
      "metadata": {},
      "outputs": [
        {
          "name": "stdout",
          "output_type": "stream",
          "text": [
            "tensor([[1, 2, 3],\n",
            "        [4, 5, 6]])\n"
          ]
        }
      ],
      "source": [
        "\n",
        "# Créer un tenseur à une dimension de taille 6\n",
        "x = torch.tensor([1, 2, 3, 4, 5, 6])\n",
        "\n",
        "# Changer la dimension en (2, 3)\n",
        "x_reshaped = x.view(2, 3)\n",
        "\n",
        "print(x_reshaped)"
      ]
    },
    {
      "cell_type": "code",
      "execution_count": null,
      "metadata": {},
      "outputs": [],
      "source": []
    }
  ],
  "metadata": {
    "kernelspec": {
      "display_name": "Python 3 (ipykernel)",
      "language": "python",
      "name": "python3"
    },
    "language_info": {
      "codemirror_mode": {
        "name": "ipython",
        "version": 3
      },
      "file_extension": ".py",
      "mimetype": "text/x-python",
      "name": "python",
      "nbconvert_exporter": "python",
      "pygments_lexer": "ipython3",
      "version": "3.9.13"
    },
    "orig_nbformat": 4
  },
  "nbformat": 4,
  "nbformat_minor": 2
}
